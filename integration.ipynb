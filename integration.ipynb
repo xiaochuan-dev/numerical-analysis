{
 "cells": [
  {
   "cell_type": "markdown",
   "metadata": {},
   "source": [
    "# 数值积分\n",
    "\n",
    "$$\n",
    "\\int_{a}^{b} f(x) \\, dx \\approx \\sum_{k=0}^{n} A_{k}f(x_k)\n",
    "$$\n",
    "\n",
    "$A_k$为点$x_k$的权\n"
   ]
  },
  {
   "cell_type": "markdown",
   "metadata": {},
   "source": [
    "简单的数值积分直接取权为1，n越大精度越高"
   ]
  },
  {
   "cell_type": "code",
   "execution_count": 22,
   "metadata": {},
   "outputs": [],
   "source": [
    "def i_f(f, a, b, n):\n",
    "    res = 0\n",
    "\n",
    "    h = (b - a) / n\n",
    "\n",
    "    for i in range(n):\n",
    "        left = a + i * h\n",
    "        res += (f(left) * h)\n",
    "\n",
    "    return res\n"
   ]
  },
  {
   "cell_type": "code",
   "execution_count": 23,
   "metadata": {},
   "outputs": [
    {
     "name": "stdout",
     "output_type": "stream",
     "text": [
      "1.9835235375094544\n",
      "1.990257175347774\n",
      "1.993570343772339\n",
      "1.9954413183201944\n",
      "1.9966002202692708\n",
      "1.9993419830762613\n"
     ]
    }
   ],
   "source": [
    "import math\n",
    "\n",
    "print(i_f(f=math.sin, a=0, b=math.pi, n=10))\n",
    "print(i_f(f=math.sin, a=0, b=math.pi, n=13))\n",
    "print(i_f(f=math.sin, a=0, b=math.pi, n=16))\n",
    "print(i_f(f=math.sin, a=0, b=math.pi, n=19))\n",
    "print(i_f(f=math.sin, a=0, b=math.pi, n=22))\n",
    "print(i_f(f=math.sin, a=0, b=math.pi, n=50))"
   ]
  },
  {
   "cell_type": "markdown",
   "metadata": {},
   "source": [
    "# 复合辛普森求积公式\n",
    "\n",
    "$$\n",
    "I = \\int_{a}^{b} f(x) \\, dx = \\frac{h}{6}\\sum_{k=0}^{n-1}[f(x_k)+4f(x_{k+1/2})+f(x_{k+1})] + R_n(f)\n",
    "$$\n",
    "其中\n",
    "$$\n",
    "x_{k+1/2}=x_k+\\frac{1}{2}h\n",
    "$$"
   ]
  },
  {
   "cell_type": "code",
   "execution_count": 24,
   "metadata": {},
   "outputs": [],
   "source": [
    "def simpson_sum(f, a, b, n):\n",
    "    h = (b - a) / n\n",
    "\n",
    "    res = 0\n",
    "\n",
    "    for i in range(n):\n",
    "        xk = a + i * h\n",
    "        xk1 = xk + h\n",
    "\n",
    "        res += (f(xk) + 4 * f(xk + h / 2) + f(xk1))\n",
    "\n",
    "    res *= (h / 6)\n",
    "    return res\n"
   ]
  },
  {
   "cell_type": "code",
   "execution_count": 28,
   "metadata": {},
   "outputs": [
    {
     "name": "stdout",
     "output_type": "stream",
     "text": [
      "2.0002691699483877\n",
      "2.0001095173150043\n",
      "2.0000526243411856\n",
      "2.0000283435514685\n",
      "2.0000165910479355\n",
      "2.000010347705775\n",
      "2.000000423093183\n"
     ]
    }
   ],
   "source": [
    "import math\n",
    "\n",
    "print(simpson_sum(f=math.sin, a=0, b=math.pi, n=4))\n",
    "print(simpson_sum(f=math.sin, a=0, b=math.pi, n=5))\n",
    "print(simpson_sum(f=math.sin, a=0, b=math.pi, n=6))\n",
    "print(simpson_sum(f=math.sin, a=0, b=math.pi, n=7))\n",
    "print(simpson_sum(f=math.sin, a=0, b=math.pi, n=8))\n",
    "print(simpson_sum(f=math.sin, a=0, b=math.pi, n=9))\n",
    "print(simpson_sum(f=math.sin, a=0, b=math.pi, n=20))"
   ]
  }
 ],
 "metadata": {
  "kernelspec": {
   "display_name": "Python 3",
   "language": "python",
   "name": "python3"
  },
  "language_info": {
   "codemirror_mode": {
    "name": "ipython",
    "version": 3
   },
   "file_extension": ".py",
   "mimetype": "text/x-python",
   "name": "python",
   "nbconvert_exporter": "python",
   "pygments_lexer": "ipython3",
   "version": "3.11.2"
  }
 },
 "nbformat": 4,
 "nbformat_minor": 2
}
