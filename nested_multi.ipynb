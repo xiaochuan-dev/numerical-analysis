{
 "cells": [
  {
   "cell_type": "markdown",
   "metadata": {},
   "source": [
    "# 多项式嵌套乘法\n",
    "\n",
    "$$2x^4+3x^3-3x^2+5x-1$$\n",
    "\n",
    "使用嵌套乘法\n",
    "\n",
    "$$\n",
    "\n",
    "x(x(x(x2+3)-3)+5)-1\n",
    "\n",
    "$$\n"
   ]
  },
  {
   "cell_type": "code",
   "execution_count": 1,
   "metadata": {},
   "outputs": [],
   "source": [
    "from IPython.display import display, Math\n",
    "\n",
    "\n",
    "def show_math(polynomial_str):\n",
    "\n",
    "    latex_polynomial = convert_to_latex(polynomial_str)\n",
    "    display(Math(latex_polynomial))\n",
    "\n",
    "def convert_to_latex(poly_str):\n",
    "    latex_str = poly_str.replace(\"x^0\", \"\").replace(\"x^1\", \"x\")\n",
    "    latex_str = latex_str.replace(\" + -\", \" - \").replace(\" + \", \" + \")\n",
    "    return latex_str.strip()"
   ]
  },
  {
   "cell_type": "code",
   "execution_count": 2,
   "metadata": {},
   "outputs": [
    {
     "data": {
      "text/latex": [
       "$\\displaystyle 2x^4 + 3x^3 - 3x^2 + 5x - 1$"
      ],
      "text/plain": [
       "<IPython.core.display.Math object>"
      ]
     },
     "metadata": {},
     "output_type": "display_data"
    },
    {
     "data": {
      "text/plain": [
       "53"
      ]
     },
     "execution_count": 2,
     "metadata": {},
     "output_type": "execute_result"
    }
   ],
   "source": [
    "def nested_multi(a: list[float], x: float):\n",
    "\n",
    "    n = len(a)\n",
    "\n",
    "    polynomial_terms = []\n",
    "    for i in range(n):\n",
    "        polynomial_terms.append(f\"{a[i]}x^{n - i - 1}\")\n",
    "\n",
    "    polynomial_str = \" + \".join(polynomial_terms)\n",
    "    show_math(polynomial_str)\n",
    "\n",
    "    res = 0\n",
    "    for i in range(n):\n",
    "        res = res * x + a[i]\n",
    "\n",
    "    return res\n",
    "\n",
    "nested_multi([2, 3, -3, 5, -1], 2)\n"
   ]
  }
 ],
 "metadata": {
  "kernelspec": {
   "display_name": "Python 3",
   "language": "python",
   "name": "python3"
  },
  "language_info": {
   "codemirror_mode": {
    "name": "ipython",
    "version": 3
   },
   "file_extension": ".py",
   "mimetype": "text/x-python",
   "name": "python",
   "nbconvert_exporter": "python",
   "pygments_lexer": "ipython3",
   "version": "3.11.2"
  }
 },
 "nbformat": 4,
 "nbformat_minor": 2
}
