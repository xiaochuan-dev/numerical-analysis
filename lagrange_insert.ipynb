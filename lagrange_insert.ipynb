{
 "cells": [
  {
   "cell_type": "markdown",
   "metadata": {},
   "source": [
    "# 拉格朗日插值法\n",
    "\n",
    "一种多项式插值，多项式插值的多项式是唯一的\n",
    "\n",
    "使用$n+1$个点构建最高项次数为$n$的多项式\n",
    "\n",
    "拉格朗日插值基函数\n",
    "\n",
    "$$\n",
    "\n",
    "l_k(x)=\\frac{(x-x_0)(x-x_1)...(x-x_{k-1})(x-x_{k+1})...(x-x_n)}{(x_k-x_0)(x_k-x_1)...(x_k-x_{k-1})(x_k-x_{k+1})...(x_k-x_n)}\n",
    "\n",
    "$$\n",
    "\n",
    "插值基函数满足条件\n",
    "\n",
    "$$\n",
    "\n",
    "l_j(x_k) =\n",
    "\\begin{cases}\n",
    "  1 &  k = j \\\\\n",
    "  0 &  k \\neq j\n",
    "\\end{cases}\n",
    "\n",
    "\\qquad j = 0,1,...n\n",
    "\n",
    "$$\n",
    "\n",
    "拉格朗日插值多项式$L_n(x)$为\n",
    "\n",
    "$$\n",
    "\n",
    "L_n(x)=\\sum_{k=0}^{n} y_kl_k(x)\n",
    "\n",
    "$$\n",
    "\n",
    "令函数$w_{n+1}(x)$可以求出导数$w_{n+1}^{'}(x)$\n",
    "\n",
    "$$\n",
    "\n",
    "\\begin{array}{c}\n",
    "\n",
    "w_{n+1}(x)=(x-x_0)(x-x_1)...(x-x_n)\\\\\n",
    "\n",
    "w_{n+1}^{'}(x_k)=(x_k-x_0)...(x_k-x_{k-1})(x_k-x_{k+1})...(x_k-x_n)\n",
    "\n",
    "\\end{array}\n",
    "\n",
    "$$\n",
    "\n",
    "拉格朗日插值多项式可以写成\n",
    "\n",
    "$$\n",
    "\n",
    "L_n(x)=\\sum_{k=0}^{n} y_k \\frac{w_{n+1}(x)}{(x-x_k)w_{n+1}^{'}(x_k)}\n",
    "\n",
    "$$\n"
   ]
  },
  {
   "cell_type": "code",
   "execution_count": null,
   "metadata": {},
   "outputs": [],
   "source": [
    "def lagrange_interpolation(points: list[list[float]]):\n",
    "    \n",
    "    def p(x: float):\n",
    "\n",
    "        res = 0\n",
    "\n",
    "        for k, _ in enumerate(points):\n",
    "            \n",
    "            z1 = 1      # 分子\n",
    "            z2 = 1      # 分母\n",
    "\n",
    "            for j, _ in enumerate(points):\n",
    "                if j != k:\n",
    "                    z1 = z1 * (x - points[j][0])\n",
    "                    z2 = z2 * (points[k][0] - points[j][0])\n",
    "\n",
    "            res += ((z1 / z2) * points[k][1])\n",
    "\n",
    "        return res\n",
    "\n",
    "    return p\n",
    "\n"
   ]
  },
  {
   "cell_type": "code",
   "execution_count": 30,
   "metadata": {},
   "outputs": [
    {
     "data": {
      "image/png": "[encoded data removed]",
      "text/plain": [
       "<Figure size 640x480 with 1 Axes>"
      ]
     },
     "metadata": {},
     "output_type": "display_data"
    }
   ],
   "source": [
    "import numpy as np\n",
    "import matplotlib.pyplot as plt\n",
    "\n",
    "x = np.random.uniform(0, 4, 20)\n",
    "y = np.log(x)\n",
    "\n",
    "# plt.plot(x, y, 'ro', label='y = log(x)', scalex=2, scaley=2)\n",
    "\n",
    "points = [[float(xi), float(yi)] for xi, yi in zip(x, y)]\n",
    "\n",
    "p = lagrange_interpolation(points)\n",
    "p_f = np.vectorize(p)\n",
    "\n",
    "y_1 = p_f(x)\n",
    "\n",
    "plt.plot(x, y_1, 'o', label='lagrange p')\n",
    "\n",
    "plt.xlabel('X')\n",
    "plt.ylabel('Y')\n",
    "plt.legend()\n",
    "plt.grid()\n",
    "plt.show()\n",
    "\n"
   ]
  }
 ],
 "metadata": {
  "kernelspec": {
   "display_name": "Python 3",
   "language": "python",
   "name": "python3"
  },
  "language_info": {
   "codemirror_mode": {
    "name": "ipython",
    "version": 3
   },
   "file_extension": ".py",
   "mimetype": "text/x-python",
   "name": "python",
   "nbconvert_exporter": "python",
   "pygments_lexer": "ipython3",
   "version": "3.12.0"
  }
 },
 "nbformat": 4,
 "nbformat_minor": 2
}
