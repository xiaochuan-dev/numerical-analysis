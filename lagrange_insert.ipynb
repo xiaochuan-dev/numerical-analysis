{
 "cells": [
  {
   "cell_type": "markdown",
   "metadata": {},
   "source": [
    "# 拉格朗日插值法\n",
    "\n",
    "一种多项式插值，多项式插值的多项式是唯一的\n",
    "\n",
    "使用$n+1$个点构建最高项次数为$n$的多项式\n",
    "\n",
    "拉格朗日插值基函数\n",
    "\n",
    "$$\n",
    "\n",
    "l_k(x)=\\frac{(x-x_0)(x-x_1)...(x-x_{k-1})(x-x_{k+1})...(x-x_n)}{(x_k-x_0)(x_k-x_1)...(x_k-x_{k-1})(x_k-x_{k+1})...(x_k-x_n)}\n",
    "\n",
    "$$\n",
    "\n",
    "插值基函数满足条件\n",
    "\n",
    "$$\n",
    "\n",
    "l_j(x_k) =\n",
    "\\begin{cases}\n",
    "  1 &  k = j \\\\\n",
    "  0 &  k \\neq j\n",
    "\\end{cases}\n",
    "\n",
    "\\qquad j = 0,1,...n\n",
    "\n",
    "$$\n",
    "\n",
    "拉格朗日插值多项式$L_n(x)$为\n",
    "\n",
    "$$\n",
    "\n",
    "L_n(x)=\\sum_{k=0}^{n} y_kl_k(x)\n",
    "\n",
    "$$\n",
    "\n",
    "令函数$w_{n+1}(x)$可以求出导数$w_{n+1}^{'}(x)$\n",
    "\n",
    "$$\n",
    "\n",
    "w_{n+1}(x)=(x-x_0)(x-x_1)...(x-x_n) \\\\\n",
    "\n",
    "w_{n+1}^{'}(x_k)=(x_k-x_0)...(x_k-x_{k-1})(x_k-x_{k+1})...(x_k-x_n)\n",
    "\n",
    "$$\n",
    "\n",
    "拉格朗日插值多项式可以写成\n",
    "\n",
    "$$\n",
    "\n",
    "L_n(x)=\\sum_{k=0}^{n} y_k \\frac{w_{n+1}(x)}{(x-x_k)w_{n+1}^{'}(x_k)}\n",
    "\n",
    "$$\n"
   ]
  }
 ],
 "metadata": {
  "kernelspec": {
   "display_name": "Python 3",
   "language": "python",
   "name": "python3"
  },
  "language_info": {
   "name": "python",
   "version": "3.12.0"
  }
 },
 "nbformat": 4,
 "nbformat_minor": 2
}
