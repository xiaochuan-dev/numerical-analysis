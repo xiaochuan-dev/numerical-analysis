{
 "cells": [
  {
   "cell_type": "markdown",
   "metadata": {},
   "source": [
    "# 不动点迭代\n",
    "\n",
    "改写方程为\n",
    "$$\n",
    "x=\\varphi(x)\n",
    "$$\n",
    "\n",
    "找到初始点$x_0$\n",
    "$$\n",
    "x_{k+1}=\\varphi(x_k)\n",
    "$$\n",
    "\n"
   ]
  },
  {
   "cell_type": "code",
   "execution_count": 7,
   "metadata": {},
   "outputs": [],
   "source": [
    "def root_fix_point(f, x0, n):\n",
    "\n",
    "    x = x0\n",
    "\n",
    "    for i in range(n):\n",
    "        x = f(x)\n",
    "\n",
    "        print(f'第{i}次迭代结果是 {x}')\n"
   ]
  },
  {
   "cell_type": "code",
   "execution_count": 19,
   "metadata": {},
   "outputs": [
    {
     "name": "stdout",
     "output_type": "stream",
     "text": [
      "第0次迭代结果是 1.2599210498948732\n",
      "第1次迭代结果是 1.360790000174377\n",
      "第2次迭代结果是 1.3961766429234024\n",
      "第3次迭代结果是 1.4081755128503535\n",
      "第4次迭代结果是 1.4121980079708376\n",
      "第5次迭代结果是 1.41354139147575\n",
      "第6次迭代结果是 1.413989469900099\n",
      "第7次迭代结果是 1.4141388609362946\n",
      "第8次迭代结果是 1.4141886614557184\n",
      "第9次迭代结果是 1.414205262018586\n",
      "第10次迭代结果是 1.4142107955828458\n",
      "第11次迭代结果是 1.414212640109077\n",
      "第12次迭代结果是 1.4142132549516888\n",
      "第13次迭代结果是 1.4142134598992855\n",
      "第14次迭代结果是 1.4142135282151578\n",
      "第15次迭代结果是 1.4142135509871159\n",
      "第16次迭代结果是 1.4142135585777686\n",
      "第17次迭代结果是 1.4142135611079862\n",
      "第18次迭代结果是 1.414213561951392\n",
      "第19次迭代结果是 1.4142135622325274\n"
     ]
    }
   ],
   "source": [
    "# x^2 - 2 = 0\n",
    "\n",
    "def f1(x):\n",
    "    return (2 * x) ** (1/3)\n",
    "\n",
    "root_fix_point(f=f1, x0=1, n=20)\n"
   ]
  }
 ],
 "metadata": {
  "kernelspec": {
   "display_name": "Python 3",
   "language": "python",
   "name": "python3"
  },
  "language_info": {
   "codemirror_mode": {
    "name": "ipython",
    "version": 3
   },
   "file_extension": ".py",
   "mimetype": "text/x-python",
   "name": "python",
   "nbconvert_exporter": "python",
   "pygments_lexer": "ipython3",
   "version": "3.11.2"
  }
 },
 "nbformat": 4,
 "nbformat_minor": 2
}
