{
 "cells": [
  {
   "cell_type": "markdown",
   "metadata": {},
   "source": [
    "# 牛顿插值\n",
    "\n",
    "## 均差（商差）\n",
    "\n",
    "$f[x_0,x_k]=\\frac{f(x_k)-f(x_0)}{x_k-x_0}$ 为函数$f(x)$关于点$x_0,x_k$的一阶均差。一般地，称\n",
    "\n",
    "$$\n",
    "\n",
    "f[x_0,x_1,...,x_k]=\\frac{f[x_0,...,x_k-2,x_k]-f[x_0,x_1,...,x_{k-1}]}{x_k-x_{k-1}}\n",
    "\n",
    "$$\n",
    "\n",
    "均差有以下性质\n",
    "\n",
    "$$\n",
    "\n",
    "\\begin{gather*}\n",
    "\n",
    "f[x_0,x_1,...,x_k]=\\sum_{j=0}^{k} \\frac{f(x_j)}{(x_j-x_0)...(x_j-x_{j-1})(x_j-x_{j+1})...(x_j-x_k)}  \\\\\\\\\n",
    "\n",
    "f[x_0,x_1,...,x_k]=\\frac{f[x_1,x_2,...,x_k] - f[x_0,x_1,...,x_{k-1}]}{x_k-x_0}\n",
    "\n",
    "\\end{gather*}\n",
    "\n",
    "$$\n",
    "\n",
    "## 牛顿插值多项式\n",
    "\n",
    "$$\n",
    "\n",
    "P_n(x)=f(x_0)+f[x_0,x_1](x-x_0)+f[x_0,x_1,x_2](x-x_0)(x-x_1)+...+f[x_0,x_1,...,x_n](x-x_0)...(x-x_{n-1})\n",
    "\n",
    "$$\n"
   ]
  },
  {
   "cell_type": "code",
   "execution_count": 4,
   "metadata": {},
   "outputs": [],
   "source": [
    "# 均差\n",
    "def get_d(points: list[list[float]]):\n",
    "    n = len(points)\n",
    "    l = n\n",
    "\n",
    "    # dp[i][j] 表示从i到j的 j-i+1阶均差\n",
    "    dp = [[0 for _ in range(l)] for _ in range(l)]\n",
    "\n",
    "    for _i in range(l):\n",
    "        i = l - _i - 1\n",
    "        for j in range(l):\n",
    "            if i >= j:\n",
    "                continue\n",
    "            elif i + 1 == j:\n",
    "                dp[i][j] = (points[j][1] - points[i][1]) / (points[j][0] - points[i][0])\n",
    "            else:\n",
    "                dp[i][j] = (dp[i + 1][j] - dp[i][j - 1]) / (points[j][0] - points[i][0])\n",
    "\n",
    "\n",
    "    return dp\n",
    "\n",
    "def newton_p(points: list[list[float]]):\n",
    "    def p(x: float):\n",
    "        n = len(points)\n",
    "        dp = get_d(points)\n",
    "\n",
    "        res = points[0][1]\n",
    "        w = 1\n",
    "\n",
    "        for i in range(1, n):\n",
    "            w *= (x - points[i - 1][0])\n",
    "            res += w * dp[0][i]\n",
    "        return res\n",
    "\n",
    "    return p\n"
   ]
  },
  {
   "cell_type": "code",
   "execution_count": 5,
   "metadata": {},
   "outputs": [
    {
     "data": {
      "image/png": "[encoded data removed]",
      "text/plain": [
       "<Figure size 640x480 with 1 Axes>"
      ]
     },
     "metadata": {},
     "output_type": "display_data"
    }
   ],
   "source": [
    "import numpy as np\n",
    "import matplotlib.pyplot as plt\n",
    "\n",
    "x = np.linspace(0, 4, 20)[1:]\n",
    "y = np.log(x)\n",
    "\n",
    "points = [[float(xi), float(yi)] for xi, yi in zip(x, y)]\n",
    "\n",
    "p = newton_p(points)\n",
    "p_f = np.vectorize(p)\n",
    "\n",
    "y_1 = p_f(x)\n",
    "\n",
    "plt.plot(x, y_1, 'o', label='newton p function')\n",
    "\n",
    "plt.xlabel('X')\n",
    "plt.ylabel('Y')\n",
    "plt.legend()\n",
    "plt.grid()\n",
    "plt.show()"
   ]
  }
 ],
 "metadata": {
  "kernelspec": {
   "display_name": "Python 3",
   "language": "python",
   "name": "python3"
  },
  "language_info": {
   "codemirror_mode": {
    "name": "ipython",
    "version": 3
   },
   "file_extension": ".py",
   "mimetype": "text/x-python",
   "name": "python",
   "nbconvert_exporter": "python",
   "pygments_lexer": "ipython3",
   "version": "3.12.0"
  }
 },
 "nbformat": 4,
 "nbformat_minor": 2
}
