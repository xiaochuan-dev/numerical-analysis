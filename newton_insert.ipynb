{
 "cells": [
  {
   "cell_type": "markdown",
   "metadata": {},
   "source": [
    "# 牛顿插值\n",
    "\n",
    "## 均差（商差）\n",
    "\n",
    "$f[x_0,x_k]=\\frac{f(x_k)-f(x_0)}{x_k-x_0}$ 为函数$f(x)$关于点$x_0,x_k$的一阶均差。一般地，称\n",
    "\n",
    "$$\n",
    "\n",
    "f[x_0,x_1,...,x_k]=\\frac{f[x_0,...,x_k-2,x_k]-f[x_0,x_1,...,x_{k-1}]}{x_k-x_{k-1}}\n",
    "\n",
    "$$\n",
    "\n",
    "均差有以下性质\n",
    "\n",
    "$$\n",
    "\n",
    "\\begin{array}{c}\n",
    "\n",
    "f[x_0,x_1,...,x_k]=\\sum_{j=0}^{k} \\frac{f(x_j)}{(x_j-x_0)...(x_j-x_{j-1})(x_j-x_{j+1})...(x_j-x_k)}  \\\\\\\\\n",
    "\n",
    "f[x_0,x_1,...,x_k]=\\frac{f[x_1,x_2,...,x_k] - f[x_0,x_1,...,x_{k-1}]}{x_k-x_0}\n",
    "\n",
    "\\end{array}\n",
    "\n",
    "$$\n",
    "\n",
    "## 牛顿插值多项式\n",
    "\n",
    "$$\n",
    "\n",
    "P_n(x)=f(x_0)+f[x_0,x_1](x-x_0)+f[x_0,x_1,x_2](x-x_0)(x-x_1)+...+f[x_0,x_1,...,x_n](x-x_0)...(x-x_{n-1})\n",
    "\n",
    "$$\n"
   ]
  }
 ],
 "metadata": {
  "kernelspec": {
   "display_name": "Python 3",
   "language": "python",
   "name": "python3"
  },
  "language_info": {
   "name": "python",
   "version": "3.12.0"
  }
 },
 "nbformat": 4,
 "nbformat_minor": 2
}
