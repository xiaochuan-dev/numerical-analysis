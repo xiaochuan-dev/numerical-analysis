{
 "cells": [
  {
   "cell_type": "markdown",
   "metadata": {},
   "source": [
    "# 求根 - 牛顿迭代\n",
    "\n",
    "$$\n",
    "\n",
    "x_{k+1} = x_k - \\frac{f(x_k)}{f^{'}(x_k)}\n",
    "\n",
    "$$"
   ]
  },
  {
   "cell_type": "markdown",
   "metadata": {},
   "source": [
    "$$\\sqrt{2} = 1.4142135623730951$$"
   ]
  },
  {
   "cell_type": "code",
   "execution_count": 5,
   "metadata": {},
   "outputs": [],
   "source": [
    "def newton_get_root(f, df, x0, n):\n",
    "\n",
    "    root = x0\n",
    "\n",
    "    for i in range(1, n + 1):\n",
    "\n",
    "        root = root - f(root) / df(root)\n",
    "        print(f'第{i}次迭代找到根为 {root}')\n"
   ]
  },
  {
   "cell_type": "code",
   "execution_count": 6,
   "metadata": {},
   "outputs": [
    {
     "name": "stdout",
     "output_type": "stream",
     "text": [
      "第1次迭代找到根为 1.5\n",
      "第2次迭代找到根为 1.4166666666666667\n",
      "第3次迭代找到根为 1.4142156862745099\n",
      "第4次迭代找到根为 1.4142135623746899\n",
      "第5次迭代找到根为 1.4142135623730951\n",
      "第6次迭代找到根为 1.414213562373095\n",
      "第7次迭代找到根为 1.4142135623730951\n",
      "第8次迭代找到根为 1.414213562373095\n",
      "第9次迭代找到根为 1.4142135623730951\n",
      "第10次迭代找到根为 1.414213562373095\n"
     ]
    }
   ],
   "source": [
    "def f1(x):\n",
    "    return x * x - 2\n",
    "\n",
    "def df1(x):\n",
    "    return 2 * x\n",
    "\n",
    "newton_get_root(f=f1, df=df1, x0=1, n=10)\n"
   ]
  },
  {
   "cell_type": "code",
   "execution_count": 8,
   "metadata": {},
   "outputs": [
    {
     "name": "stdout",
     "output_type": "stream",
     "text": [
      "第1次迭代找到根为 0.7357588823428847\n",
      "第2次迭代找到根为 0.6940422999189153\n",
      "第3次迭代找到根为 0.6931475810597714\n",
      "第4次迭代找到根为 0.6931471805600254\n",
      "第5次迭代找到根为 0.6931471805599453\n",
      "第6次迭代找到根为 0.6931471805599453\n",
      "第7次迭代找到根为 0.6931471805599453\n",
      "第8次迭代找到根为 0.6931471805599453\n",
      "第9次迭代找到根为 0.6931471805599453\n",
      "第10次迭代找到根为 0.6931471805599453\n"
     ]
    }
   ],
   "source": [
    "import math\n",
    "\n",
    "def f2(x):\n",
    "    return math.exp(x) - 2\n",
    "\n",
    "def df2(x):\n",
    "    return math.exp(x)\n",
    "\n",
    "newton_get_root(f=f2, df=df2, x0=1, n=10)"
   ]
  }
 ],
 "metadata": {
  "kernelspec": {
   "display_name": "Python 3",
   "language": "python",
   "name": "python3"
  },
  "language_info": {
   "codemirror_mode": {
    "name": "ipython",
    "version": 3
   },
   "file_extension": ".py",
   "mimetype": "text/x-python",
   "name": "python",
   "nbconvert_exporter": "python",
   "pygments_lexer": "ipython3",
   "version": "3.11.2"
  }
 },
 "nbformat": 4,
 "nbformat_minor": 2
}
