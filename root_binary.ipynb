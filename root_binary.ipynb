{
 "cells": [
  {
   "cell_type": "markdown",
   "metadata": {},
   "source": [
    "# 方程求根 - 二分法\n",
    "\n",
    "选取$[a, b]$使根$x_0 \\in [a, b]$，进行迭代\n"
   ]
  },
  {
   "cell_type": "markdown",
   "metadata": {},
   "source": [
    "$$\\sqrt{2} = 1.4142135623730951$$"
   ]
  },
  {
   "cell_type": "code",
   "execution_count": 8,
   "metadata": {},
   "outputs": [],
   "source": [
    "def binary_get_root(f, left, right, n):\n",
    "\n",
    "\n",
    "    for i in range(1, n + 1):\n",
    "        mid = left + (right - left) / 2\n",
    "\n",
    "        left_value = f(left)\n",
    "        right_value = f(right)\n",
    "        mid_value = f(mid)\n",
    "\n",
    "        if mid_value == 0:\n",
    "            print(f'第{i}次迭代找到根为{mid_value}')\n",
    "            break\n",
    "\n",
    "        print(f'第{i}次迭代, left={left} left_value={left_value} right={right} right_value={right_value} mid={mid} mid_value={mid_value}')\n",
    "\n",
    "        if left_value * mid_value > 0:\n",
    "            left = mid\n",
    "        else:\n",
    "            right = mid\n",
    "\n",
    "\n"
   ]
  },
  {
   "cell_type": "code",
   "execution_count": 9,
   "metadata": {},
   "outputs": [
    {
     "name": "stdout",
     "output_type": "stream",
     "text": [
      "第1次迭代, left=1 left_value=-1 right=2 right_value=2 mid=1.5 mid_value=0.25\n",
      "第2次迭代, left=1 left_value=-1 right=1.5 right_value=0.25 mid=1.25 mid_value=-0.4375\n",
      "第3次迭代, left=1.25 left_value=-0.4375 right=1.5 right_value=0.25 mid=1.375 mid_value=-0.109375\n",
      "第4次迭代, left=1.375 left_value=-0.109375 right=1.5 right_value=0.25 mid=1.4375 mid_value=0.06640625\n",
      "第5次迭代, left=1.375 left_value=-0.109375 right=1.4375 right_value=0.06640625 mid=1.40625 mid_value=-0.0224609375\n",
      "第6次迭代, left=1.40625 left_value=-0.0224609375 right=1.4375 right_value=0.06640625 mid=1.421875 mid_value=0.021728515625\n",
      "第7次迭代, left=1.40625 left_value=-0.0224609375 right=1.421875 right_value=0.021728515625 mid=1.4140625 mid_value=-0.00042724609375\n",
      "第8次迭代, left=1.4140625 left_value=-0.00042724609375 right=1.421875 right_value=0.021728515625 mid=1.41796875 mid_value=0.0106353759765625\n",
      "第9次迭代, left=1.4140625 left_value=-0.00042724609375 right=1.41796875 right_value=0.0106353759765625 mid=1.416015625 mid_value=0.005100250244140625\n",
      "第10次迭代, left=1.4140625 left_value=-0.00042724609375 right=1.416015625 right_value=0.005100250244140625 mid=1.4150390625 mid_value=0.0023355484008789062\n"
     ]
    }
   ],
   "source": [
    "def f1(x):\n",
    "    return x * x - 2\n",
    "\n",
    "binary_get_root(f=f1, left=1, right=2, n=10)\n"
   ]
  },
  {
   "cell_type": "code",
   "execution_count": 10,
   "metadata": {},
   "outputs": [
    {
     "name": "stdout",
     "output_type": "stream",
     "text": [
      "第1次迭代, left=1.41 left_value=-0.011900000000000244 right=1.5 right_value=0.25 mid=1.455 mid_value=0.11702500000000038\n",
      "第2次迭代, left=1.41 left_value=-0.011900000000000244 right=1.455 right_value=0.11702500000000038 mid=1.4325 mid_value=0.05205625000000014\n",
      "第3次迭代, left=1.41 left_value=-0.011900000000000244 right=1.4325 right_value=0.05205625000000014 mid=1.4212500000000001 mid_value=0.019951562500000186\n",
      "第4次迭代, left=1.41 left_value=-0.011900000000000244 right=1.4212500000000001 right_value=0.019951562500000186 mid=1.415625 mid_value=0.003994140624999698\n",
      "第5次迭代, left=1.41 left_value=-0.011900000000000244 right=1.415625 right_value=0.003994140624999698 mid=1.4128124999999998 mid_value=-0.003960839843750508\n",
      "第6次迭代, left=1.4128124999999998 left_value=-0.003960839843750508 right=1.415625 right_value=0.003994140624999698 mid=1.4142187499999999 mid_value=1.4672851562202993e-05\n",
      "第7次迭代, left=1.4128124999999998 left_value=-0.003960839843750508 right=1.4142187499999999 right_value=1.4672851562202993e-05 mid=1.4135156249999998 mid_value=-0.0019735778808598337\n",
      "第8次迭代, left=1.4135156249999998 left_value=-0.0019735778808598337 right=1.4142187499999999 right_value=1.4672851562202993e-05 mid=1.4138671874999997 mid_value=-0.000979576110840652\n",
      "第9次迭代, left=1.4138671874999997 left_value=-0.000979576110840652 right=1.4142187499999999 right_value=1.4672851562202993e-05 mid=1.4140429687499998 mid_value=-0.0004824825286871004\n",
      "第10次迭代, left=1.4140429687499998 left_value=-0.0004824825286871004 right=1.4142187499999999 right_value=1.4672851562202993e-05 mid=1.4141308593749997 mid_value=-0.000233912563324834\n"
     ]
    }
   ],
   "source": [
    "def f1(x):\n",
    "    return x * x - 2\n",
    "\n",
    "binary_get_root(f=f1, left=1.41, right=1.5, n=10)\n"
   ]
  }
 ],
 "metadata": {
  "kernelspec": {
   "display_name": "Python 3",
   "language": "python",
   "name": "python3"
  },
  "language_info": {
   "codemirror_mode": {
    "name": "ipython",
    "version": 3
   },
   "file_extension": ".py",
   "mimetype": "text/x-python",
   "name": "python",
   "nbconvert_exporter": "python",
   "pygments_lexer": "ipython3",
   "version": "3.12.0"
  }
 },
 "nbformat": 4,
 "nbformat_minor": 2
}
